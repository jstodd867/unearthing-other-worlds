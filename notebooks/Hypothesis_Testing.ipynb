{
 "cells": [
  {
   "cell_type": "markdown",
   "id": "c7151f45",
   "metadata": {},
   "source": [
    "# Hypothesis Testing"
   ]
  },
  {
   "cell_type": "code",
   "execution_count": 1,
   "id": "44855b68",
   "metadata": {},
   "outputs": [],
   "source": [
    "from scipy import stats\n",
    "import numpy as np\n",
    "import pandas as pd"
   ]
  },
  {
   "cell_type": "code",
   "execution_count": 3,
   "id": "dfe2db3a",
   "metadata": {},
   "outputs": [],
   "source": [
    "# Read in data from csv file\n",
    "planet_data = pd.read_csv('../data/distinct_planets.csv')"
   ]
  },
  {
   "cell_type": "markdown",
   "id": "a8055e11",
   "metadata": {},
   "source": [
    "### Is the mean planet radius for the leading method (Transit) smaller than that of the next method (Radial Velocity)?\n",
    "\n",
    "#### Null hypothesis:  The means are equal\n",
    "#### Alternative hypothesis:  Mean for the transit method < Mean for radial velocity method"
   ]
  },
  {
   "cell_type": "code",
   "execution_count": 4,
   "id": "42a2daf6",
   "metadata": {},
   "outputs": [
    {
     "name": "stdout",
     "output_type": "stream",
     "text": [
      "Sample 1 mean = 4.209055455635496, Sample 2 mean = 10.195298224852074\n"
     ]
    },
    {
     "data": {
      "text/plain": [
       "(4.566567296422839e-178, True)"
      ]
     },
     "execution_count": 4,
     "metadata": {},
     "output_type": "execute_result"
    }
   ],
   "source": [
    "# Hypothesis test.  Is the mean planet radius for one method different than the mean planet radius for another method?\n",
    "\n",
    "# Separate samples for transit method (method1) and radial velocity method (method2)\n",
    "method1 = 'Transit'\n",
    "method2 = 'Radial Velocity'\n",
    "\n",
    "sample_m1 = planet_data[planet_data['discoverymethod'] == method1]['pl_rade'].dropna()\n",
    "sample_m2 = planet_data[planet_data['discoverymethod'] == method2]['pl_rade'].dropna()\n",
    "\n",
    "def hypothesis_test(sample_1, sample_2, alpha, alt):\n",
    "    # Print sample means for reference\n",
    "    print(f'Sample 1 mean = {sample_1.mean()}, Sample 2 mean = {sample_2.mean()}')\n",
    "    # Perform t_test\n",
    "    _, p_val = stats.ttest_ind(sample_1, sample_2, equal_var = False, alternative = alt)\n",
    "    return p_val, p_val <= alpha\n",
    "\n",
    "hypothesis_test(sample_m1, sample_m2, 0.05, 'less')"
   ]
  },
  {
   "cell_type": "markdown",
   "id": "37ac959b",
   "metadata": {},
   "source": [
    "The p-value is much less than alpha, therefore, we reject the null hypothesis that the mean detected planet radius is equal between the Transit and Radial Velocity methods"
   ]
  },
  {
   "cell_type": "code",
   "execution_count": 5,
   "id": "fd972596",
   "metadata": {},
   "outputs": [
    {
     "name": "stdout",
     "output_type": "stream",
     "text": [
      "Sample 1 mean = 12.005313229571989, Sample 2 mean = 4.858201910663569\n"
     ]
    },
    {
     "data": {
      "text/plain": [
       "(2.1672062321268732e-175, True)"
      ]
     },
     "execution_count": 5,
     "metadata": {},
     "output_type": "execute_result"
    }
   ],
   "source": [
    "sample_old = planet_data[planet_data['disc_year'] <= 2010]['pl_rade'].dropna()\n",
    "sample_new = planet_data[planet_data['disc_year'] > 2010]['pl_rade'].dropna()\n",
    "\n",
    "hypothesis_test(sample_old, sample_new, 0.05, 'greater')"
   ]
  }
 ],
 "metadata": {
  "kernelspec": {
   "display_name": "Python 3",
   "language": "python",
   "name": "python3"
  },
  "language_info": {
   "codemirror_mode": {
    "name": "ipython",
    "version": 3
   },
   "file_extension": ".py",
   "mimetype": "text/x-python",
   "name": "python",
   "nbconvert_exporter": "python",
   "pygments_lexer": "ipython3",
   "version": "3.8.10"
  }
 },
 "nbformat": 4,
 "nbformat_minor": 5
}
