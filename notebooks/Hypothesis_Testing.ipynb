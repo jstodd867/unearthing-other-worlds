{
 "cells": [
  {
   "cell_type": "markdown",
   "id": "c7151f45",
   "metadata": {},
   "source": [
    "# Hypothesis Testing"
   ]
  },
  {
   "cell_type": "code",
   "execution_count": 1,
   "id": "44855b68",
   "metadata": {},
   "outputs": [],
   "source": [
    "import numpy as np\n",
    "import pandas as pd\n",
    "import sys\n",
    "from scipy import stats\n",
    "import os\n",
    "pwd, _ = os.path.split(os.getcwd())\n",
    "sys.path.append(os.path.join(pwd, 'src'))\n",
    "import hypothesis"
   ]
  },
  {
   "cell_type": "code",
   "execution_count": 2,
   "id": "dfe2db3a",
   "metadata": {},
   "outputs": [],
   "source": [
    "# Read in data from csv file\n",
    "planet_data = pd.read_csv('../data/distinct_planets.csv')"
   ]
  },
  {
   "cell_type": "markdown",
   "id": "a8055e11",
   "metadata": {},
   "source": [
    "### Is the mean planet radius for the leading method (Transit) smaller than that of the next method (Radial Velocity)?\n",
    "\n",
    "$H_0$:   $\\mu_{transit} = \\mu_{radial velocity}$\n",
    "\n",
    "$H_A$:   $\\mu_{transit} < \\mu_{radial velocity}$"
   ]
  },
  {
   "cell_type": "code",
   "execution_count": 3,
   "id": "42a2daf6",
   "metadata": {},
   "outputs": [
    {
     "name": "stdout",
     "output_type": "stream",
     "text": [
      "Sample 1 mean = 4.209055455635496, Sample 2 mean = 10.195298224852074\n"
     ]
    },
    {
     "data": {
      "text/plain": [
       "(4.566567296422839e-178, True)"
      ]
     },
     "execution_count": 3,
     "metadata": {},
     "output_type": "execute_result"
    }
   ],
   "source": [
    "# Separate samples for transit method (method1) and radial velocity method (method2)\n",
    "method1 = 'Transit'\n",
    "method2 = 'Radial Velocity'\n",
    "\n",
    "sample_m1 = planet_data[planet_data['discoverymethod'] == method1]['pl_rade'].dropna()\n",
    "sample_m2 = planet_data[planet_data['discoverymethod'] == method2]['pl_rade'].dropna()\n",
    "\n",
    "# Run hypothesis test\n",
    "hypothesis.hypothesis_test(sample_m1, sample_m2, 0.05, 'less')"
   ]
  },
  {
   "cell_type": "markdown",
   "id": "37ac959b",
   "metadata": {},
   "source": [
    "The p-value is much less than alpha, therefore, we reject the null hypothesis that the mean detected planet radius is equal between the Transit and Radial Velocity methods"
   ]
  },
  {
   "cell_type": "markdown",
   "id": "c7f911ac",
   "metadata": {},
   "source": [
    "### Is the mean planet radius from 1989 - 2010 greater than that detected over the period 2011 - 2021?\n",
    "\n",
    "$H_0$:   $\\mu_{1989-2010} = \\mu_{2011-2021}$\n",
    "\n",
    "$H_A$:   $\\mu_{1989-2010} > \\mu_{2011-2021}$"
   ]
  },
  {
   "cell_type": "code",
   "execution_count": 4,
   "id": "fd972596",
   "metadata": {},
   "outputs": [
    {
     "name": "stdout",
     "output_type": "stream",
     "text": [
      "Sample 1 mean = 12.005313229571989, Sample 2 mean = 4.858201910663569\n"
     ]
    },
    {
     "data": {
      "text/plain": [
       "(2.1672062321268732e-175, True)"
      ]
     },
     "execution_count": 4,
     "metadata": {},
     "output_type": "execute_result"
    }
   ],
   "source": [
    "sample_old = planet_data[planet_data['disc_year'] <= 2010]['pl_rade'].dropna()\n",
    "sample_new = planet_data[planet_data['disc_year'] > 2010]['pl_rade'].dropna()\n",
    "\n",
    "hypothesis.hypothesis_test(sample_old, sample_new, 0.05, 'greater')"
   ]
  },
  {
   "cell_type": "markdown",
   "id": "2a1f745b",
   "metadata": {},
   "source": [
    "The p-value is much less than alpha, therefore, we reject the null hypothesis that the mean detected planet radius is equal between the two time periods, in favor of the alternate hypothesis."
   ]
  }
 ],
 "metadata": {
  "kernelspec": {
   "display_name": "Python 3",
   "language": "python",
   "name": "python3"
  },
  "language_info": {
   "codemirror_mode": {
    "name": "ipython",
    "version": 3
   },
   "file_extension": ".py",
   "mimetype": "text/x-python",
   "name": "python",
   "nbconvert_exporter": "python",
   "pygments_lexer": "ipython3",
   "version": "3.8.10"
  }
 },
 "nbformat": 4,
 "nbformat_minor": 5
}
